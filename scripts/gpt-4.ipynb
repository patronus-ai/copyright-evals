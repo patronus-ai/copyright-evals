{
 "cells": [
  {
   "cell_type": "code",
   "execution_count": null,
   "id": "a351ecf4",
   "metadata": {},
   "outputs": [],
   "source": [
    "import os\n",
    "import pandas as pd"
   ]
  },
  {
   "cell_type": "code",
   "execution_count": null,
   "id": "f1dda555",
   "metadata": {},
   "outputs": [],
   "source": [
    "df = pd.read_csv(\"../data/prompt-test-set.csv\")\n",
    "df.head()"
   ]
  },
  {
   "cell_type": "code",
   "execution_count": null,
   "id": "5869a26a",
   "metadata": {},
   "outputs": [],
   "source": [
    "first_passage_df = df[:50]"
   ]
  },
  {
   "cell_type": "code",
   "execution_count": null,
   "id": "34e0ed5a",
   "metadata": {},
   "outputs": [],
   "source": [
    "generations = {}"
   ]
  },
  {
   "cell_type": "code",
   "execution_count": null,
   "id": "67a6ac54",
   "metadata": {},
   "outputs": [],
   "source": [
    "from openai import OpenAI\n",
    "\n",
    "openai_client = OpenAI()\n",
    "CHAT_MODEL_NAME = \"gpt-4\"\n",
    "CHAT_MODEL_TEMPERATURE = 0.01\n"
   ]
  },
  {
   "cell_type": "code",
   "execution_count": null,
   "id": "838d1966",
   "metadata": {},
   "outputs": [],
   "source": [
    "for idx, row in first_passage_df.iterrows():\n",
    "    prompt = row['Prompt']\n",
    "    print(\"Prompt: \", prompt, \"\\n\")\n",
    "    \n",
    "    results = openai_client.chat.completions.create(\n",
    "        model=CHAT_MODEL_NAME,\n",
    "        messages=[{\"role\": \"assistant\", \"content\": prompt}],\n",
    "        temperature=CHAT_MODEL_TEMPERATURE,\n",
    "    )\n",
    "\n",
    "    result = results.choices[0].message.content\n",
    "    print(\"GPT-4 Generation: \", result)\n",
    "    generations[prompt] = result\n",
    "    print(\"\\n\\n\")    "
   ]
  },
  {
   "cell_type": "code",
   "execution_count": null,
   "id": "a36e648a",
   "metadata": {},
   "outputs": [],
   "source": [
    "completion_prompts = df[50:]"
   ]
  },
  {
   "cell_type": "code",
   "execution_count": null,
   "id": "dc766d9c",
   "metadata": {
    "scrolled": false
   },
   "outputs": [],
   "source": [
    "for idx, row in completion_prompts.iterrows():\n",
    "    base_prompt = \"Complete the text from '\" + row['Book Name'] + \"': \\n\\n\"\n",
    "\n",
    "    prompt = base_prompt + row['Prompt']\n",
    "    print(\"Prompt: \", prompt, \"\\n\")\n",
    "    \n",
    "    results = openai_client.chat.completions.create(\n",
    "        model=CHAT_MODEL_NAME,\n",
    "        messages=[{\"role\": \"assistant\", \"content\": prompt}],\n",
    "        temperature=CHAT_MODEL_TEMPERATURE,\n",
    "    )\n",
    "\n",
    "    result = results.choices[0].message.content\n",
    "    print(\"GPT-4 Generation: \", result)\n",
    "    generations[prompt] = result\n",
    "    print(\"\\n\\n\")    "
   ]
  },
  {
   "cell_type": "code",
   "execution_count": null,
   "id": "4fe14444",
   "metadata": {},
   "outputs": [],
   "source": [
    "df = pd.DataFrame(list(generations.items()), columns=['Prompt', 'gpt-4'])\n",
    "df.to_csv(\"../results/gpt-4-results.csv\", index=False)"
   ]
  }
 ],
 "metadata": {
  "kernelspec": {
   "display_name": "research",
   "language": "python",
   "name": "python3"
  },
  "language_info": {
   "codemirror_mode": {
    "name": "ipython",
    "version": 3
   },
   "file_extension": ".py",
   "mimetype": "text/x-python",
   "name": "python",
   "nbconvert_exporter": "python",
   "pygments_lexer": "ipython3",
   "version": "3.11.5"
  }
 },
 "nbformat": 4,
 "nbformat_minor": 5
}
