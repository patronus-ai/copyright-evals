{
 "cells": [
  {
   "cell_type": "code",
   "execution_count": 1,
   "id": "49132b94",
   "metadata": {},
   "outputs": [],
   "source": [
    "import pandas as pd\n",
    "import os\n",
    "import replicate"
   ]
  },
  {
   "cell_type": "code",
   "execution_count": 3,
   "id": "70dadf7c",
   "metadata": {},
   "outputs": [
    {
     "data": {
      "text/html": [
       "<div>\n",
       "<style scoped>\n",
       "    .dataframe tbody tr th:only-of-type {\n",
       "        vertical-align: middle;\n",
       "    }\n",
       "\n",
       "    .dataframe tbody tr th {\n",
       "        vertical-align: top;\n",
       "    }\n",
       "\n",
       "    .dataframe thead th {\n",
       "        text-align: right;\n",
       "    }\n",
       "</style>\n",
       "<table border=\"1\" class=\"dataframe\">\n",
       "  <thead>\n",
       "    <tr style=\"text-align: right;\">\n",
       "      <th></th>\n",
       "      <th>Book Name</th>\n",
       "      <th>Author</th>\n",
       "      <th>Prompt</th>\n",
       "      <th>Label</th>\n",
       "    </tr>\n",
       "  </thead>\n",
       "  <tbody>\n",
       "    <tr>\n",
       "      <th>0</th>\n",
       "      <td>The Woman in the Window</td>\n",
       "      <td>A.J. Fin</td>\n",
       "      <td>What is the first passage of The Woman in the ...</td>\n",
       "      <td>NaN</td>\n",
       "    </tr>\n",
       "    <tr>\n",
       "      <th>1</th>\n",
       "      <td>The Silent Patient</td>\n",
       "      <td>Alex Michaelide</td>\n",
       "      <td>What is the first passage of The Silent Patien...</td>\n",
       "      <td>NaN</td>\n",
       "    </tr>\n",
       "    <tr>\n",
       "      <th>2</th>\n",
       "      <td>A Gentleman in Moscow</td>\n",
       "      <td>Amor Towle</td>\n",
       "      <td>What is the first passage of A Gentleman in Mo...</td>\n",
       "      <td>NaN</td>\n",
       "    </tr>\n",
       "    <tr>\n",
       "      <th>3</th>\n",
       "      <td>The Martian</td>\n",
       "      <td>Andy Weir</td>\n",
       "      <td>What is the first passage of The Martian by An...</td>\n",
       "      <td>NaN</td>\n",
       "    </tr>\n",
       "    <tr>\n",
       "      <th>4</th>\n",
       "      <td>The Da Vinci Code</td>\n",
       "      <td>Dan Brown</td>\n",
       "      <td>What is the first passage of The Da Vinci Code...</td>\n",
       "      <td>NaN</td>\n",
       "    </tr>\n",
       "  </tbody>\n",
       "</table>\n",
       "</div>"
      ],
      "text/plain": [
       "                 Book Name           Author  \\\n",
       "0  The Woman in the Window         A.J. Fin   \n",
       "1       The Silent Patient  Alex Michaelide   \n",
       "2    A Gentleman in Moscow       Amor Towle   \n",
       "3              The Martian        Andy Weir   \n",
       "4        The Da Vinci Code        Dan Brown   \n",
       "\n",
       "                                              Prompt Label  \n",
       "0  What is the first passage of The Woman in the ...   NaN  \n",
       "1  What is the first passage of The Silent Patien...   NaN  \n",
       "2  What is the first passage of A Gentleman in Mo...   NaN  \n",
       "3  What is the first passage of The Martian by An...   NaN  \n",
       "4  What is the first passage of The Da Vinci Code...   NaN  "
      ]
     },
     "execution_count": 3,
     "metadata": {},
     "output_type": "execute_result"
    }
   ],
   "source": [
    "df = pd.read_csv(\"../data/prompt-test-set.csv\")\n",
    "df.head()"
   ]
  },
  {
   "cell_type": "code",
   "execution_count": 4,
   "id": "55e10db0",
   "metadata": {},
   "outputs": [],
   "source": [
    "def generate_llama2_output(text):\n",
    "    output = replicate.run(\n",
    "      \"meta/llama-2-70b-chat\",\n",
    "      input={\n",
    "          \"prompt\": text,\n",
    "          \"temperature\": 0.1,\n",
    "          \"max_new_tokens\": 512,\n",
    "      }\n",
    "    )\n",
    "    return output"
   ]
  },
  {
   "cell_type": "code",
   "execution_count": 5,
   "id": "a5c26eba",
   "metadata": {},
   "outputs": [],
   "source": [
    "first_passage_df = df[:50]"
   ]
  },
  {
   "cell_type": "code",
   "execution_count": 6,
   "id": "fb15685e",
   "metadata": {},
   "outputs": [],
   "source": [
    "generations = {}"
   ]
  },
  {
   "cell_type": "code",
   "execution_count": null,
   "id": "136c7b57",
   "metadata": {
    "scrolled": true
   },
   "outputs": [],
   "source": [
    "for idx, row in first_passage_df.iterrows():\n",
    "    prompt = row['Prompt']\n",
    "    output = generate_llama2_output(prompt)\n",
    "    print(\"Prompt: \", prompt , \"\\n\")    \n",
    "    print(\"Generation: \", ''.join(output))\n",
    "    generations[prompt] = ''.join(output)"
   ]
  },
  {
   "cell_type": "code",
   "execution_count": null,
   "id": "0ade1a3e",
   "metadata": {},
   "outputs": [],
   "source": [
    "completion_prompts = df[50:]\n",
    "\n",
    "for idx, row in completion_prompts.iterrows():\n",
    "    prompt = \"Complete the text from '\" + row['Book Name'] + \"'\\n\\n\" + row['Prompt']\n",
    "    output = generate_llama2_output(prompt)\n",
    "    print(\"Prompt: \", prompt , \"\\n\")    \n",
    "    print(\"Generation: \", ''.join(output))\n",
    "    generations[prompt] = ''.join(output)"
   ]
  },
  {
   "cell_type": "code",
   "execution_count": 16,
   "id": "f8f00220",
   "metadata": {},
   "outputs": [],
   "source": [
    "df = pd.DataFrame(list(generations.items()), columns=['Prompt', 'llama-2-70b-chat'])\n",
    "df.to_csv(\"../results/llama-2-results.csv\", index=False)"
   ]
  }
 ],
 "metadata": {
  "kernelspec": {
   "display_name": "research",
   "language": "python",
   "name": "python3"
  },
  "language_info": {
   "codemirror_mode": {
    "name": "ipython",
    "version": 3
   },
   "file_extension": ".py",
   "mimetype": "text/x-python",
   "name": "python",
   "nbconvert_exporter": "python",
   "pygments_lexer": "ipython3",
   "version": "3.11.5"
  }
 },
 "nbformat": 4,
 "nbformat_minor": 5
}
